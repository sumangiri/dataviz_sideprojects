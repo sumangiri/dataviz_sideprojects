{
 "cells": [
  {
   "cell_type": "markdown",
   "metadata": {},
   "source": [
    "## Things to do:\n",
    "1. Country to Country: sankey diagram with (a) sector in the middle (b) umbrella in the middle\n",
    "2. *Liars*:  disbursed - committed (color shows # of failures): square tree \n",
    "3. *Corrupts*: total project cost- disbursed (color shows # of failures): square tree [do it by filtering for projects that were completed, i.e. start_date and end_date not zero]\n",
    "4. **Association rule mining** on categorical variables associated with Nepal. (Present as word cloud with importance based on lift)\n",
    "5. Pick some variables and predict whether a project is completed or not. rank the variables by importance. "
   ]
  },
  {
   "cell_type": "code",
   "execution_count": 224,
   "metadata": {
    "collapsed": false
   },
   "outputs": [],
   "source": [
    "import warnings\n",
    "warnings.filterwarnings('ignore')\n",
    "import pandas as pd\n",
    "df=pd.read_csv('/Users/sumangiri/Downloads/aiddata2-1_research_release.csv')"
   ]
  },
  {
   "cell_type": "code",
   "execution_count": 225,
   "metadata": {
    "collapsed": false
   },
   "outputs": [
    {
     "data": {
      "text/html": [
       "<div>\n",
       "<table border=\"1\" class=\"dataframe\">\n",
       "  <thead>\n",
       "    <tr style=\"text-align: right;\">\n",
       "      <th></th>\n",
       "      <th>aiddata_id</th>\n",
       "      <th>year</th>\n",
       "      <th>commitment_date</th>\n",
       "      <th>start_date</th>\n",
       "      <th>end_date</th>\n",
       "      <th>donor</th>\n",
       "      <th>donor_iso2</th>\n",
       "      <th>donor_iso3</th>\n",
       "      <th>umbrella</th>\n",
       "      <th>donor_project_id</th>\n",
       "      <th>...</th>\n",
       "      <th>investment_project</th>\n",
       "      <th>aiddata_purpose_code</th>\n",
       "      <th>aiddata_purpose_name</th>\n",
       "      <th>aiddata_activity_code</th>\n",
       "      <th>aiddata_activity_name</th>\n",
       "      <th>aiddata_feasibility_study</th>\n",
       "      <th>aiddata_technical_assistance</th>\n",
       "      <th>coalesced_purpose_code</th>\n",
       "      <th>coalesced_purpose_name</th>\n",
       "      <th>aiddata_is_conflict</th>\n",
       "    </tr>\n",
       "  </thead>\n",
       "  <tbody>\n",
       "    <tr>\n",
       "      <th>0</th>\n",
       "      <td>21235774</td>\n",
       "      <td>2004</td>\n",
       "      <td>0</td>\n",
       "      <td>0</td>\n",
       "      <td>0</td>\n",
       "      <td>Belgium</td>\n",
       "      <td>BE</td>\n",
       "      <td>BEL</td>\n",
       "      <td>0</td>\n",
       "      <td>1840171</td>\n",
       "      <td>...</td>\n",
       "      <td>0</td>\n",
       "      <td>0</td>\n",
       "      <td>0</td>\n",
       "      <td>0</td>\n",
       "      <td>0</td>\n",
       "      <td>0</td>\n",
       "      <td>0</td>\n",
       "      <td>92010</td>\n",
       "      <td>Support to national ngos</td>\n",
       "      <td>0</td>\n",
       "    </tr>\n",
       "    <tr>\n",
       "      <th>1</th>\n",
       "      <td>94726192</td>\n",
       "      <td>2010</td>\n",
       "      <td>0</td>\n",
       "      <td>2010-06-07 00:00:00</td>\n",
       "      <td>2010-12-07 00:00:00</td>\n",
       "      <td>United Kingdom</td>\n",
       "      <td>GB</td>\n",
       "      <td>GBR</td>\n",
       "      <td>0</td>\n",
       "      <td>201848-101</td>\n",
       "      <td>...</td>\n",
       "      <td>0</td>\n",
       "      <td>0</td>\n",
       "      <td>0</td>\n",
       "      <td>0</td>\n",
       "      <td>0</td>\n",
       "      <td>0</td>\n",
       "      <td>0</td>\n",
       "      <td>72010</td>\n",
       "      <td>Emergency/distress relief</td>\n",
       "      <td>0</td>\n",
       "    </tr>\n",
       "  </tbody>\n",
       "</table>\n",
       "<p>2 rows × 99 columns</p>\n",
       "</div>"
      ],
      "text/plain": [
       "  aiddata_id  year commitment_date           start_date             end_date  \\\n",
       "0   21235774  2004               0                    0                    0   \n",
       "1   94726192  2010               0  2010-06-07 00:00:00  2010-12-07 00:00:00   \n",
       "\n",
       "            donor donor_iso2 donor_iso3 umbrella donor_project_id  \\\n",
       "0         Belgium         BE        BEL        0          1840171   \n",
       "1  United Kingdom         GB        GBR        0       201848-101   \n",
       "\n",
       "          ...          investment_project aiddata_purpose_code  \\\n",
       "0         ...                           0                    0   \n",
       "1         ...                           0                    0   \n",
       "\n",
       "  aiddata_purpose_name  aiddata_activity_code aiddata_activity_name  \\\n",
       "0                    0                      0                     0   \n",
       "1                    0                      0                     0   \n",
       "\n",
       "  aiddata_feasibility_study aiddata_technical_assistance  \\\n",
       "0                         0                            0   \n",
       "1                         0                            0   \n",
       "\n",
       "  coalesced_purpose_code     coalesced_purpose_name  aiddata_is_conflict  \n",
       "0                  92010   Support to national ngos                    0  \n",
       "1                  72010  Emergency/distress relief                    0  \n",
       "\n",
       "[2 rows x 99 columns]"
      ]
     },
     "execution_count": 225,
     "metadata": {},
     "output_type": "execute_result"
    }
   ],
   "source": [
    "df=df.fillna(0)\n",
    "df.head(2)"
   ]
  },
  {
   "cell_type": "code",
   "execution_count": 226,
   "metadata": {
    "collapsed": true
   },
   "outputs": [],
   "source": [
    "df=df[df.aiddata_id!=2445044]"
   ]
  },
  {
   "cell_type": "code",
   "execution_count": 254,
   "metadata": {
    "collapsed": false
   },
   "outputs": [],
   "source": [
    "df1=df[['donor',\\\n",
    "'recipient',\\\n",
    "'sector',\\\n",
    "'disbursement_amount_usd_nominal',\\\n",
    "'commitment_amount_usd_nominal',\\\n",
    "'received_amount_usd_nominal',\\\n",
    "'total_project_cost_usd_nominal']].groupby(['donor','recipient']).sum().reset_index()\\\n",
    ".sort_values('disbursement_amount_usd_nominal',ascending=[0])"
   ]
  },
  {
   "cell_type": "code",
   "execution_count": 255,
   "metadata": {
    "collapsed": false
   },
   "outputs": [],
   "source": [
    "import numpy as np\n",
    "df1['com_dis']=np.abs(1-np.round(df1.disbursement_amount_usd_nominal*1.0 / (1+df1.commitment_amount_usd_nominal),2)) #liars\n",
    "df1['dis_pc']=np.abs(1-np.round(df1.total_project_cost_usd_nominal*1.0/(1+df1.disbursement_amount_usd_nominal),2))   #corrupt \n",
    "df1=df1.fillna(0)"
   ]
  },
  {
   "cell_type": "markdown",
   "metadata": {},
   "source": [
    "## Countries that commit to more than what they disburse: liars"
   ]
  },
  {
   "cell_type": "code",
   "execution_count": 336,
   "metadata": {
    "collapsed": false
   },
   "outputs": [],
   "source": [
    "df1['com_dis'][(df1.com_dis>1e100)]=0\n",
    "df2=df1[(df1.com_dis>0)&(df1.com_dis<100.01)&(df1.disbursement_amount_usd_nominal>1e4)]"
   ]
  },
  {
   "cell_type": "code",
   "execution_count": 337,
   "metadata": {
    "collapsed": false
   },
   "outputs": [],
   "source": [
    "#get donors who have at least 5 projects that meet our criteria\n",
    "filter_list_dnr=df2[['donor','com_dis']].groupby('donor').count().sort_values(by='com_dis', ascending=[0])\\\n",
    ".reset_index()\n",
    "filter_list_dnr=filter_list_dnr['donor'].loc[filter_list_dnr.com_dis>4]"
   ]
  },
  {
   "cell_type": "code",
   "execution_count": 345,
   "metadata": {
    "collapsed": false
   },
   "outputs": [],
   "source": [
    "dnr_list= df2[['donor','com_dis']].loc[df2.donor.isin(filter_list_dnr)]\\\n",
    ".groupby('donor').mean().sort_values(by='com_dis', ascending=[0])\\\n",
    ".reset_index().donor[0:10]"
   ]
  },
  {
   "cell_type": "code",
   "execution_count": 364,
   "metadata": {
    "collapsed": false
   },
   "outputs": [
    {
     "data": {
      "text/html": [
       "<div>\n",
       "<table border=\"1\" class=\"dataframe\">\n",
       "  <thead>\n",
       "    <tr style=\"text-align: right;\">\n",
       "      <th></th>\n",
       "      <th>donor</th>\n",
       "      <th>com_dis</th>\n",
       "    </tr>\n",
       "  </thead>\n",
       "  <tbody>\n",
       "    <tr>\n",
       "      <th>0</th>\n",
       "      <td>Andean Development Corporation (CAF)</td>\n",
       "      <td>0.998000</td>\n",
       "    </tr>\n",
       "    <tr>\n",
       "      <th>1</th>\n",
       "      <td>European Communities (EC)</td>\n",
       "      <td>0.945500</td>\n",
       "    </tr>\n",
       "    <tr>\n",
       "      <th>2</th>\n",
       "      <td>OPEC Fund for International Development (OFID)</td>\n",
       "      <td>0.912432</td>\n",
       "    </tr>\n",
       "    <tr>\n",
       "      <th>3</th>\n",
       "      <td>Arab Bank for Economic Development in Africa (...</td>\n",
       "      <td>0.856286</td>\n",
       "    </tr>\n",
       "    <tr>\n",
       "      <th>4</th>\n",
       "      <td>Australia</td>\n",
       "      <td>0.809159</td>\n",
       "    </tr>\n",
       "    <tr>\n",
       "      <th>5</th>\n",
       "      <td>Switzerland</td>\n",
       "      <td>0.802164</td>\n",
       "    </tr>\n",
       "    <tr>\n",
       "      <th>6</th>\n",
       "      <td>Canada</td>\n",
       "      <td>0.785597</td>\n",
       "    </tr>\n",
       "    <tr>\n",
       "      <th>7</th>\n",
       "      <td>Denmark</td>\n",
       "      <td>0.784717</td>\n",
       "    </tr>\n",
       "    <tr>\n",
       "      <th>8</th>\n",
       "      <td>World Bank - International Bank for Reconstruc...</td>\n",
       "      <td>0.761558</td>\n",
       "    </tr>\n",
       "    <tr>\n",
       "      <th>9</th>\n",
       "      <td>Italy</td>\n",
       "      <td>0.750797</td>\n",
       "    </tr>\n",
       "    <tr>\n",
       "      <th>10</th>\n",
       "      <td>Bill &amp; Melinda Gates Foundation</td>\n",
       "      <td>0.746087</td>\n",
       "    </tr>\n",
       "    <tr>\n",
       "      <th>11</th>\n",
       "      <td>World Bank - Managed Trust Funds</td>\n",
       "      <td>0.741923</td>\n",
       "    </tr>\n",
       "    <tr>\n",
       "      <th>12</th>\n",
       "      <td>Netherlands</td>\n",
       "      <td>0.741575</td>\n",
       "    </tr>\n",
       "    <tr>\n",
       "      <th>13</th>\n",
       "      <td>United Kingdom</td>\n",
       "      <td>0.733176</td>\n",
       "    </tr>\n",
       "    <tr>\n",
       "      <th>14</th>\n",
       "      <td>United States</td>\n",
       "      <td>0.732516</td>\n",
       "    </tr>\n",
       "    <tr>\n",
       "      <th>15</th>\n",
       "      <td>Norway</td>\n",
       "      <td>0.703309</td>\n",
       "    </tr>\n",
       "    <tr>\n",
       "      <th>16</th>\n",
       "      <td>Japan</td>\n",
       "      <td>0.693252</td>\n",
       "    </tr>\n",
       "    <tr>\n",
       "      <th>17</th>\n",
       "      <td>World Bank - International Development Associa...</td>\n",
       "      <td>0.679663</td>\n",
       "    </tr>\n",
       "    <tr>\n",
       "      <th>18</th>\n",
       "      <td>United Arab Emirates</td>\n",
       "      <td>0.670000</td>\n",
       "    </tr>\n",
       "    <tr>\n",
       "      <th>19</th>\n",
       "      <td>Germany</td>\n",
       "      <td>0.665357</td>\n",
       "    </tr>\n",
       "    <tr>\n",
       "      <th>20</th>\n",
       "      <td>Sweden</td>\n",
       "      <td>0.661387</td>\n",
       "    </tr>\n",
       "    <tr>\n",
       "      <th>21</th>\n",
       "      <td>Finland</td>\n",
       "      <td>0.659420</td>\n",
       "    </tr>\n",
       "    <tr>\n",
       "      <th>22</th>\n",
       "      <td>United Nations Peacebuilding Fund (UNPBF)</td>\n",
       "      <td>0.577143</td>\n",
       "    </tr>\n",
       "    <tr>\n",
       "      <th>23</th>\n",
       "      <td>New Zealand</td>\n",
       "      <td>0.544811</td>\n",
       "    </tr>\n",
       "    <tr>\n",
       "      <th>24</th>\n",
       "      <td>Korea</td>\n",
       "      <td>0.529186</td>\n",
       "    </tr>\n",
       "    <tr>\n",
       "      <th>25</th>\n",
       "      <td>Belgium</td>\n",
       "      <td>0.520769</td>\n",
       "    </tr>\n",
       "    <tr>\n",
       "      <th>26</th>\n",
       "      <td>France</td>\n",
       "      <td>0.492349</td>\n",
       "    </tr>\n",
       "    <tr>\n",
       "      <th>27</th>\n",
       "      <td>Austria</td>\n",
       "      <td>0.450735</td>\n",
       "    </tr>\n",
       "    <tr>\n",
       "      <th>28</th>\n",
       "      <td>Kuwait</td>\n",
       "      <td>0.402233</td>\n",
       "    </tr>\n",
       "    <tr>\n",
       "      <th>29</th>\n",
       "      <td>International Monetary Fund (IMF)</td>\n",
       "      <td>0.384701</td>\n",
       "    </tr>\n",
       "    <tr>\n",
       "      <th>30</th>\n",
       "      <td>Spain</td>\n",
       "      <td>0.364961</td>\n",
       "    </tr>\n",
       "    <tr>\n",
       "      <th>31</th>\n",
       "      <td>Global Fund to Fight Aids, Tuberculosis and Ma...</td>\n",
       "      <td>0.350081</td>\n",
       "    </tr>\n",
       "    <tr>\n",
       "      <th>32</th>\n",
       "      <td>Arab Fund for Economic &amp; Social Development (A...</td>\n",
       "      <td>0.321304</td>\n",
       "    </tr>\n",
       "    <tr>\n",
       "      <th>33</th>\n",
       "      <td>Portugal</td>\n",
       "      <td>0.248085</td>\n",
       "    </tr>\n",
       "    <tr>\n",
       "      <th>34</th>\n",
       "      <td>Taiwan</td>\n",
       "      <td>0.240937</td>\n",
       "    </tr>\n",
       "    <tr>\n",
       "      <th>35</th>\n",
       "      <td>Luxembourg</td>\n",
       "      <td>0.209804</td>\n",
       "    </tr>\n",
       "    <tr>\n",
       "      <th>36</th>\n",
       "      <td>United Nations Development Programme (UNDP)</td>\n",
       "      <td>0.138889</td>\n",
       "    </tr>\n",
       "    <tr>\n",
       "      <th>37</th>\n",
       "      <td>Ireland</td>\n",
       "      <td>0.082535</td>\n",
       "    </tr>\n",
       "  </tbody>\n",
       "</table>\n",
       "</div>"
      ],
      "text/plain": [
       "                                                donor   com_dis\n",
       "0                Andean Development Corporation (CAF)  0.998000\n",
       "1                           European Communities (EC)  0.945500\n",
       "2      OPEC Fund for International Development (OFID)  0.912432\n",
       "3   Arab Bank for Economic Development in Africa (...  0.856286\n",
       "4                                           Australia  0.809159\n",
       "5                                         Switzerland  0.802164\n",
       "6                                              Canada  0.785597\n",
       "7                                             Denmark  0.784717\n",
       "8   World Bank - International Bank for Reconstruc...  0.761558\n",
       "9                                               Italy  0.750797\n",
       "10                    Bill & Melinda Gates Foundation  0.746087\n",
       "11                   World Bank - Managed Trust Funds  0.741923\n",
       "12                                        Netherlands  0.741575\n",
       "13                                     United Kingdom  0.733176\n",
       "14                                      United States  0.732516\n",
       "15                                             Norway  0.703309\n",
       "16                                              Japan  0.693252\n",
       "17  World Bank - International Development Associa...  0.679663\n",
       "18                               United Arab Emirates  0.670000\n",
       "19                                            Germany  0.665357\n",
       "20                                             Sweden  0.661387\n",
       "21                                            Finland  0.659420\n",
       "22          United Nations Peacebuilding Fund (UNPBF)  0.577143\n",
       "23                                        New Zealand  0.544811\n",
       "24                                              Korea  0.529186\n",
       "25                                            Belgium  0.520769\n",
       "26                                             France  0.492349\n",
       "27                                            Austria  0.450735\n",
       "28                                             Kuwait  0.402233\n",
       "29                  International Monetary Fund (IMF)  0.384701\n",
       "30                                              Spain  0.364961\n",
       "31  Global Fund to Fight Aids, Tuberculosis and Ma...  0.350081\n",
       "32  Arab Fund for Economic & Social Development (A...  0.321304\n",
       "33                                           Portugal  0.248085\n",
       "34                                             Taiwan  0.240937\n",
       "35                                         Luxembourg  0.209804\n",
       "36        United Nations Development Programme (UNDP)  0.138889\n",
       "37                                            Ireland  0.082535"
      ]
     },
     "execution_count": 364,
     "metadata": {},
     "output_type": "execute_result"
    }
   ],
   "source": [
    "df2[['donor','com_dis']].loc[df2.donor.isin(filter_list_dnr)]\\\n",
    ".groupby('donor').mean().sort_values(by='com_dis', ascending=[0])\\\n",
    ".reset_index()\n"
   ]
  },
  {
   "cell_type": "code",
   "execution_count": 348,
   "metadata": {
    "collapsed": true
   },
   "outputs": [],
   "source": [
    "com_dis_df=df2[df2.donor.isin(dnr_list)]"
   ]
  },
  {
   "cell_type": "code",
   "execution_count": 351,
   "metadata": {
    "collapsed": true
   },
   "outputs": [],
   "source": [
    "mapping_com_dis={'World Bank - International Bank for Reconstruction and Development (IBRD)':'World Bank (IBRD)',\\\n",
    "        'Andean Development Corporation (CAF)': 'Andean Dev Corp (CAF)',\\\n",
    "        'OPEC Fund for International Development (OFID)':'OPEC (OFID)',\\\n",
    "        'Arab Bank for Economic Development in Africa (BADEA)':'Arab Bank (BADEA)'}"
   ]
  },
  {
   "cell_type": "code",
   "execution_count": 352,
   "metadata": {
    "collapsed": true
   },
   "outputs": [],
   "source": [
    "com_dis_df['donor'] = com_dis_df['donor'].replace(mapping_com_dis)"
   ]
  },
  {
   "cell_type": "code",
   "execution_count": 354,
   "metadata": {
    "collapsed": false
   },
   "outputs": [],
   "source": [
    "com_dis_df.to_csv('treemap_com_dis.csv')"
   ]
  },
  {
   "cell_type": "markdown",
   "metadata": {},
   "source": [
    "### Countries whose project cost does not add up to the amount disbursed for it: corrupts"
   ]
  },
  {
   "cell_type": "code",
   "execution_count": 304,
   "metadata": {
    "collapsed": true
   },
   "outputs": [],
   "source": [
    "#dont count instances where disb amt was 0 or cases with no project cost\n",
    "df1['dis_pc'][(df1.dis_pc>1e100)]=0\n",
    "df3=df1[(df1.dis_pc<100.01)&(df1.total_project_cost_usd_nominal>1e4)]"
   ]
  },
  {
   "cell_type": "code",
   "execution_count": 260,
   "metadata": {
    "collapsed": false
   },
   "outputs": [],
   "source": [
    "# df3[['donor','recipient','disbursement_amount_usd_nominal','dis_pc', 'commitment_amount_usd_nominal']]"
   ]
  },
  {
   "cell_type": "code",
   "execution_count": 305,
   "metadata": {
    "collapsed": false
   },
   "outputs": [],
   "source": [
    "#get recipients who have at least 4 projects that meet our criteria\n",
    "filter_list=df3[['recipient','dis_pc']].groupby('recipient').count().sort_values(by='dis_pc', ascending=[0])\\\n",
    ".reset_index()\n",
    "filter_list=filter_list['recipient'].loc[filter_list.dis_pc>2]"
   ]
  },
  {
   "cell_type": "code",
   "execution_count": 306,
   "metadata": {
    "collapsed": false
   },
   "outputs": [],
   "source": [
    "#get recipients who meet the 4 project criteria AND \n",
    "#have the largest average difference between project cost and disbursed amount\n",
    "\n",
    "rcp_list= df3[['recipient','dis_pc']].loc[df3.recipient.isin(filter_list)]\\\n",
    ".groupby('recipient').mean()\\\n",
    ".sort_values(by='dis_pc', ascending=[0])\\\n",
    ".reset_index().recipient[0:10]"
   ]
  },
  {
   "cell_type": "code",
   "execution_count": 307,
   "metadata": {
    "collapsed": true
   },
   "outputs": [],
   "source": [
    "dis_pc_df=df3[df3.recipient.isin(rcp_list)]"
   ]
  },
  {
   "cell_type": "code",
   "execution_count": 308,
   "metadata": {
    "collapsed": false
   },
   "outputs": [
    {
     "data": {
      "text/plain": [
       "array(['World Bank - International Development Association (IDA)',\n",
       "       'Arab Fund for Economic & Social Development (AFESD)', 'Kuwait',\n",
       "       'World Bank - International Bank for Reconstruction and Development (IBRD)',\n",
       "       'OPEC Fund for International Development (OFID)',\n",
       "       'Arab Bank for Economic Development in Africa (BADEA)',\n",
       "       'United Arab Emirates', 'Nordic Development Fund (NDF)',\n",
       "       'World Bank - Managed Trust Funds'], dtype=object)"
      ]
     },
     "execution_count": 308,
     "metadata": {},
     "output_type": "execute_result"
    }
   ],
   "source": [
    "dis_pc_df.donor.unique()"
   ]
  },
  {
   "cell_type": "code",
   "execution_count": 309,
   "metadata": {
    "collapsed": true
   },
   "outputs": [],
   "source": [
    "mapping={'World Bank - International Bank for Reconstruction and Development (IBRD)':'World Bank (IBRD)', \\\n",
    "         'World Bank - International Development Association (IDA)':'World Bank (IDA)',\\\n",
    "         'Arab Fund for Economic & Social Development (AFESD)':'Arab Fund (AFESD)',\\\n",
    "         'Arab Bank for Economic Development in Africa (BADEA)': 'Arab Bank (BADEA)',\\\n",
    "         'OPEC Fund for International Development (OFID)': 'OPEC Fund (OFID)',\\\n",
    "         'Nordic Development Fund (NDF)':'Nordi Development Fund (NDF)',\\\n",
    "         'Kuwait':'Kuwait'}\n",
    "    "
   ]
  },
  {
   "cell_type": "code",
   "execution_count": 310,
   "metadata": {
    "collapsed": true
   },
   "outputs": [],
   "source": [
    "dis_pc_df.donor=dis_pc_df.donor.map(mapping)"
   ]
  },
  {
   "cell_type": "code",
   "execution_count": 311,
   "metadata": {
    "collapsed": true
   },
   "outputs": [],
   "source": [
    "dis_pc_df.fillna('Unknown',inplace='True')"
   ]
  },
  {
   "cell_type": "code",
   "execution_count": 312,
   "metadata": {
    "collapsed": true
   },
   "outputs": [],
   "source": [
    "dis_pc_df.to_csv('treemap_dis_pc.csv')"
   ]
  }
 ],
 "metadata": {
  "kernelspec": {
   "display_name": "Python 2",
   "language": "python",
   "name": "python2"
  },
  "language_info": {
   "codemirror_mode": {
    "name": "ipython",
    "version": 2
   },
   "file_extension": ".py",
   "mimetype": "text/x-python",
   "name": "python",
   "nbconvert_exporter": "python",
   "pygments_lexer": "ipython2",
   "version": "2.7.10"
  }
 },
 "nbformat": 4,
 "nbformat_minor": 0
}

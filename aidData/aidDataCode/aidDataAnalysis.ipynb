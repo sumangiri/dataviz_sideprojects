{
 "cells": [
  {
   "cell_type": "code",
   "execution_count": 41,
   "metadata": {
    "collapsed": false
   },
   "outputs": [
    {
     "data": {
      "text/html": [
       "<script>\n",
       "code_show=true; \n",
       "function code_toggle() {\n",
       " if (code_show){\n",
       " $('div.input').hide();\n",
       " } else {\n",
       " $('div.input').show();\n",
       " }\n",
       " code_show = !code_show\n",
       "} \n",
       "$( document ).ready(code_toggle);\n",
       "</script>\n",
       "The raw code for this IPython notebook is by default hidden for easier reading.\n",
       "To toggle on/off the raw code, click <a href=\"javascript:code_toggle()\">here</a>."
      ],
      "text/plain": [
       "<IPython.core.display.HTML object>"
      ]
     },
     "execution_count": 41,
     "metadata": {},
     "output_type": "execute_result"
    }
   ],
   "source": [
    "from IPython.display import HTML\n",
    "HTML('''<script>\n",
    "code_show=true; \n",
    "function code_toggle() {\n",
    " if (code_show){\n",
    " $('div.input').hide();\n",
    " } else {\n",
    " $('div.input').show();\n",
    " }\n",
    " code_show = !code_show\n",
    "} \n",
    "$( document ).ready(code_toggle);\n",
    "</script>\n",
    "The raw code for this IPython notebook is by default hidden for easier reading.\n",
    "To toggle on/off the raw code, click <a href=\"javascript:code_toggle()\">here</a>.''')"
   ]
  },
  {
   "cell_type": "markdown",
   "metadata": {},
   "source": [
    "# Quick analysis on Aid Data"
   ]
  },
  {
   "cell_type": "markdown",
   "metadata": {},
   "source": [
    "### About this analysis\n",
    "\n",
    "I downloaded the AIDData 2.1 and 3.0 from <a href=\"http://aiddata.org/country-level-research-datasets\">here</a>. It essentially tracks International Development Finance, i.e. who gave how much aid to who and for what. Parts of the data is questionable (as is to be expected from what I assume is a consolidation from disparate sources, some even paper-based). I was primarily interested in the following:\n",
    "\n",
    "* **The flow of money from donors to recipient countries**\n",
    "* **The percent of the committed money that actually gets disbursed (this was a big issue with the aid that committed to Nepal for Earthquake reconstruction)**\n",
    "* **The portion of aid received that goes into the actual project that it was meant for**\n",
    "* **A neat way to visualize all of this information**\n",
    "\n",
    "**`Why?`** : I had 2 six-hour-flights this past week, and I needed something to do."
   ]
  },
  {
   "cell_type": "markdown",
   "metadata": {},
   "source": [
    "### About the data\n",
    "\n",
    "AidData appears to be a pretty comprehensive repository of aid finance [It is not my domain so I am not sure if there are better sources]. Version 2.1 appears to have data from 1947-2012 while 3.0 appears to have 2013 data as well. Version 3.0 appears to be a research release version (I took that to mean beta). The fields are similar in both versions. It tracks 67 variables associated with development finance projects as it pertains to 96 donors (countries and organizations like UN, etc.). The fields that I ended up using were:\n",
    "\n",
    "* disbursed amount\n",
    "* committed amount\n",
    "* total project cost \n",
    "* donor \n",
    "* recipient\n",
    "* sector\n",
    "\n",
    "Tbh, I did not take the time to read through the data dictionary properly. I just skimmed through it, couldn't find exact matches to some of the fields I was looking for, but haven't spent enough time to fairly comment on how good it actually is. The dictionary for the latest release can be found <a href=\"http://aiddata.org/sites/default/files/inline/readme.pdf\">here</a>"
   ]
  },
  {
   "cell_type": "markdown",
   "metadata": {},
   "source": [
    "### A. How aid flows across countries\n",
    "\n",
    "For the **top 7 sectors** as measured by commitment amount (in billions USD)\\*, how aid flows from the **top 5 donors** to the **top 10 recipients**. I used a **Sankey diagram** to represent this information. The d3 visualization allows you to hover over the network to see the actual value, and also move the countries around to make the graph cleaner. \n",
    "\n",
    "\n",
    "*Worth noting that this is not a flow from a donor to a recipient through a sector. Rather, a representation of what kind of sectors are attracting the most amount of donor money, and how these sectors fare in the recipients' priorities.*"
   ]
  },
  {
   "cell_type": "code",
   "execution_count": 19,
   "metadata": {
    "collapsed": false
   },
   "outputs": [
    {
     "data": {
      "text/html": [
       "\n",
       "        <iframe\n",
       "            width=\"750\"\n",
       "            height=\"550\"\n",
       "            src=\"sankey_aid_data_2016.html?lineheight=0&display=block&scroll=False\"\n",
       "            frameborder=\"0\"\n",
       "            allowfullscreen\n",
       "        ></iframe>\n",
       "        "
      ],
      "text/plain": [
       "<IPython.lib.display.IFrame at 0x104025590>"
      ]
     },
     "execution_count": 19,
     "metadata": {},
     "output_type": "execute_result"
    }
   ],
   "source": [
    "from IPython.display import IFrame\n",
    "IFrame('sankey_aid_data_2016.html',width=750,height=550, scroll=False,display='block',lineheight=0)"
   ]
  },
  {
   "cell_type": "markdown",
   "metadata": {},
   "source": [
    "Pictured above is the results for AidData3.0. The values are in USD constant (adjusted for inflation). Although I am not too confident on 3.0's data quality, it appears as if World Bank (IBRD and IDA) have stepped up their funding considerably in 2013 (when I compare it to a similar graph for 2.0). \n",
    "\n",
    "It's insightful as to how for a country like **Japan**, Energy and Transportation are top funding priorities while for the **U.S.**, it is Health, Government and Budget. "
   ]
  },
  {
   "cell_type": "markdown",
   "metadata": {},
   "source": [
    "### B. How Nepal receives Aid. \n",
    "\n",
    "The **top 10 sectors** for which Nepal was committed funding from it's **top 20 donors** (as measured in millions USD). Just for comparison, I threw in Sri Lanka as well (given both share comparable recent political history, population size, geo-political stresses). "
   ]
  },
  {
   "cell_type": "code",
   "execution_count": 48,
   "metadata": {
    "collapsed": false,
    "scrolled": true
   },
   "outputs": [
    {
     "data": {
      "text/html": [
       "\n",
       "        <iframe\n",
       "            width=\"750\"\n",
       "            height=\"550\"\n",
       "            src=\"sankey_aid_data_nep_2016.html\"\n",
       "            frameborder=\"0\"\n",
       "            allowfullscreen\n",
       "        ></iframe>\n",
       "        "
      ],
      "text/plain": [
       "<IPython.lib.display.IFrame at 0x104025fd0>"
      ]
     },
     "execution_count": 48,
     "metadata": {},
     "output_type": "execute_result"
    }
   ],
   "source": [
    "IFrame('sankey_aid_data_nep_2016.html',width=750,height=550)"
   ]
  },
  {
   "cell_type": "markdown",
   "metadata": {},
   "source": [
    "The graph above is for AidData3.0. Perhaps the fact that SriLanka (smaller country than Nepal, and by many counts, more developed) was committed more aid has something to do with the 2004 Tsunami (just speculating wildly here). \n",
    "\n",
    "Japan seems to value Transporation a lot. I would have thought health, education, etc. would be the largest sectors, but turns out Transporation, Energy, Agriculture actually are. "
   ]
  },
  {
   "cell_type": "markdown",
   "metadata": {},
   "source": [
    "### C. Measuring inefficiency and corruption: The difference between disbursed amount and project cost\n",
    "\n",
    "I used aid disbursed as a proxy for received money (as received amount was of poor quality), and total project cost as the money that went into the project. To capture the percent of the disbursed amount that ends up not being used for the project, I used:\n",
    "\n",
    "$\\hspace{40 mm}{\\text{inefficiency}= \\big|\\,{1-\\big(\\frac{\\text{project cost}}{\\text{disbursed amount}}}\\big)\\,\\big|}$\n",
    "\n",
    "\n",
    "The major reasons I can imagine -again, my own ignorance probably- for the disbursed amount not matching up to the project cost are:\n",
    "* the money got lost during the project i.e. receiver corruption \n",
    "* donor did not disburse all of the money but the project went ahead anyway i.e. donor corruption \n",
    "* project ended up costing way more than intended i.e. inefficiency\n",
    "\n",
    "I used the **average inefficiency** metric for countries with **at least 3** *qualifying* projects to calculate a list of the 10 most inefficient receivers to come up with the following tree-map. Clicking on recipients shows the donors associated. Color gradient shows inefficiency metric between the donor and recipient with darker being higher."
   ]
  },
  {
   "cell_type": "code",
   "execution_count": 31,
   "metadata": {
    "collapsed": false,
    "scrolled": true
   },
   "outputs": [
    {
     "data": {
      "text/html": [
       "\n",
       "        <iframe\n",
       "            width=\"850\"\n",
       "            height=\"540\"\n",
       "            src=\"treemap_dis_pc.html\"\n",
       "            frameborder=\"0\"\n",
       "            allowfullscreen\n",
       "        ></iframe>\n",
       "        "
      ],
      "text/plain": [
       "<IPython.lib.display.IFrame at 0x104025790>"
      ]
     },
     "execution_count": 31,
     "metadata": {},
     "output_type": "execute_result"
    }
   ],
   "source": [
    "from IPython.display import IFrame\n",
    "IFrame('treemap_dis_pc.html',width=850,height=540)"
   ]
  },
  {
   "cell_type": "markdown",
   "metadata": {},
   "source": [
    "The receivers are all African, bar Syria and Baharain. But the interesting part is that most of the donors involved are associated with the middle-east somehow (i.e. Kuwait, Arab Bank, OPEC). You could summarise this as - **A lot of money seems to get lost on projects where Arab countries/organizations are donating to Africa**. Two possibilities:\n",
    "* The disbursed amount and project cost data is closely tracked for these countries only (so only these show up)\n",
    "* Oil is involved somehow."
   ]
  },
  {
   "cell_type": "markdown",
   "metadata": {},
   "source": [
    "### C. Measuring failure to execute: The difference between committed amount and disbursed amount\n",
    "\n",
    "Often, aid gets committed but not disbursed. Few reasons I can think of :\n",
    "* The donor is using aid as a political bargaining chip and won't release it until conditions are met.\n",
    "* The reciever doesn't have their sh\\*t together (aka Nepal post-2015 earthquake).\n",
    "* Donor is using it as a cheap popularity stunt without intentions of following through.\n",
    "\n",
    "I used the following metric to measure this: \n",
    "\n",
    "$\\hspace{40 mm}{\\text{inexecution}= \\big|\\,{1-\\big(\\frac{\\text{ disbursed amount}}{\\text{committed amount}}}\\big)\\,\\big|}$\n",
    "\n",
    "\n",
    "I used the **average inexecution** metric for countries with **more than 5** *qualifying* projects to calculate a list of the 10 most untrustworthy donors (when it comes to followingthrough). Clicking on the donors in the tree-map will reveal the receivers involved. Color gradient shows inexecution metric between the donor and recipient with darker being higher."
   ]
  },
  {
   "cell_type": "code",
   "execution_count": 40,
   "metadata": {
    "collapsed": false,
    "scrolled": true
   },
   "outputs": [
    {
     "data": {
      "text/html": [
       "\n",
       "        <iframe\n",
       "            width=\"600\"\n",
       "            height=\"530\"\n",
       "            src=\"treemap_com_dis.html\"\n",
       "            frameborder=\"0\"\n",
       "            allowfullscreen\n",
       "        ></iframe>\n",
       "        "
      ],
      "text/plain": [
       "<IPython.lib.display.IFrame at 0x104025a90>"
      ]
     },
     "execution_count": 40,
     "metadata": {},
     "output_type": "execute_result"
    }
   ],
   "source": [
    "IFrame('treemap_com_dis.html',width=600,height=530)"
   ]
  },
  {
   "cell_type": "markdown",
   "metadata": {},
   "source": [
    "There are a few (4, to be precise) cases where the disbursed amount is higher than the commitment amount. The dark block between Australia and Croatia is one of those. Not sure why this would happen, but the disbursed amount was only 960k USD. OPEC and Arab Bank feature among the top 10 again. Honorable mentions (Bill & Melinda Gates Foundation at 11th, United States at 14th)."
   ]
  },
  {
   "cell_type": "markdown",
   "metadata": {
    "collapsed": true
   },
   "source": [
    "Other notes:\n",
    "\n",
    "**I did a host of basic processing to clean the data (e.g. for sector Primary and secondary education were converted to \"Education\" etc, nulls converted to zeros, both large and small values removed, etc. - the usual).** \n",
    "\n",
    "**\\*Obviously, we could have used received or disbursed amount but version 3.0 of the data doesn't seem to have that, and the quality of received amount is questionable in version 2.1).**"
   ]
  }
 ],
 "metadata": {
  "kernelspec": {
   "display_name": "Python 2",
   "language": "python",
   "name": "python2"
  },
  "language_info": {
   "codemirror_mode": {
    "name": "ipython",
    "version": 2
   },
   "file_extension": ".py",
   "mimetype": "text/x-python",
   "name": "python",
   "nbconvert_exporter": "python",
   "pygments_lexer": "ipython2",
   "version": "2.7.10"
  }
 },
 "nbformat": 4,
 "nbformat_minor": 0
}

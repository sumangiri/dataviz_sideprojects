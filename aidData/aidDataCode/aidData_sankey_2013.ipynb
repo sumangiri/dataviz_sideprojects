{
 "cells": [
  {
   "cell_type": "markdown",
   "metadata": {},
   "source": [
    "## Things to do:\n",
    "#http://aiddata.org/country-level-research-datasets\n",
    "1. Country to Country: sankey diagram with (a) sector in the middle (b) umbrella in the middle\n",
    "2. *Liars*:  disbursed - committed (color shows # of failures): square tree \n",
    "3. *Corrupts*: total project cost- disbursed (color shows # of failures): square tree [do it by filtering for projects that were completed, i.e. start_date and end_date not zero]\n",
    "4. **Association rule mining** on categorical variables associated with Nepal. (Present as word cloud with importance based on lift)\n",
    "5. Pick some variables and predict whether a project is completed or not. rank the variables by importance. "
   ]
  },
  {
   "cell_type": "code",
   "execution_count": 205,
   "metadata": {
    "collapsed": false
   },
   "outputs": [],
   "source": [
    "#load aid data, downloaded from http://aiddata.org/country-level-research-datasets\n",
    "import pandas as pd\n",
    "df=pd.read_csv('/Users/sumangiri/Downloads/aiddata2-1_research_release.csv')"
   ]
  },
  {
   "cell_type": "code",
   "execution_count": 206,
   "metadata": {
    "collapsed": false
   },
   "outputs": [
    {
     "data": {
      "text/html": [
       "<div>\n",
       "<table border=\"1\" class=\"dataframe\">\n",
       "  <thead>\n",
       "    <tr style=\"text-align: right;\">\n",
       "      <th></th>\n",
       "      <th>aiddata_id</th>\n",
       "      <th>year</th>\n",
       "      <th>commitment_date</th>\n",
       "      <th>start_date</th>\n",
       "      <th>end_date</th>\n",
       "      <th>donor</th>\n",
       "      <th>donor_iso2</th>\n",
       "      <th>donor_iso3</th>\n",
       "      <th>umbrella</th>\n",
       "      <th>donor_project_id</th>\n",
       "      <th>...</th>\n",
       "      <th>investment_project</th>\n",
       "      <th>aiddata_purpose_code</th>\n",
       "      <th>aiddata_purpose_name</th>\n",
       "      <th>aiddata_activity_code</th>\n",
       "      <th>aiddata_activity_name</th>\n",
       "      <th>aiddata_feasibility_study</th>\n",
       "      <th>aiddata_technical_assistance</th>\n",
       "      <th>coalesced_purpose_code</th>\n",
       "      <th>coalesced_purpose_name</th>\n",
       "      <th>aiddata_is_conflict</th>\n",
       "    </tr>\n",
       "  </thead>\n",
       "  <tbody>\n",
       "    <tr>\n",
       "      <th>0</th>\n",
       "      <td>21235774</td>\n",
       "      <td>2004</td>\n",
       "      <td>0</td>\n",
       "      <td>0</td>\n",
       "      <td>0</td>\n",
       "      <td>Belgium</td>\n",
       "      <td>BE</td>\n",
       "      <td>BEL</td>\n",
       "      <td>0</td>\n",
       "      <td>1840171</td>\n",
       "      <td>...</td>\n",
       "      <td>0</td>\n",
       "      <td>0</td>\n",
       "      <td>0</td>\n",
       "      <td>0</td>\n",
       "      <td>0</td>\n",
       "      <td>0</td>\n",
       "      <td>0</td>\n",
       "      <td>92010</td>\n",
       "      <td>Support to national ngos</td>\n",
       "      <td>0</td>\n",
       "    </tr>\n",
       "    <tr>\n",
       "      <th>1</th>\n",
       "      <td>94726192</td>\n",
       "      <td>2010</td>\n",
       "      <td>0</td>\n",
       "      <td>2010-06-07 00:00:00</td>\n",
       "      <td>2010-12-07 00:00:00</td>\n",
       "      <td>United Kingdom</td>\n",
       "      <td>GB</td>\n",
       "      <td>GBR</td>\n",
       "      <td>0</td>\n",
       "      <td>201848-101</td>\n",
       "      <td>...</td>\n",
       "      <td>0</td>\n",
       "      <td>0</td>\n",
       "      <td>0</td>\n",
       "      <td>0</td>\n",
       "      <td>0</td>\n",
       "      <td>0</td>\n",
       "      <td>0</td>\n",
       "      <td>72010</td>\n",
       "      <td>Emergency/distress relief</td>\n",
       "      <td>0</td>\n",
       "    </tr>\n",
       "  </tbody>\n",
       "</table>\n",
       "<p>2 rows × 99 columns</p>\n",
       "</div>"
      ],
      "text/plain": [
       "  aiddata_id  year commitment_date           start_date             end_date  \\\n",
       "0   21235774  2004               0                    0                    0   \n",
       "1   94726192  2010               0  2010-06-07 00:00:00  2010-12-07 00:00:00   \n",
       "\n",
       "            donor donor_iso2 donor_iso3 umbrella donor_project_id  \\\n",
       "0         Belgium         BE        BEL        0          1840171   \n",
       "1  United Kingdom         GB        GBR        0       201848-101   \n",
       "\n",
       "          ...          investment_project aiddata_purpose_code  \\\n",
       "0         ...                           0                    0   \n",
       "1         ...                           0                    0   \n",
       "\n",
       "  aiddata_purpose_name  aiddata_activity_code aiddata_activity_name  \\\n",
       "0                    0                      0                     0   \n",
       "1                    0                      0                     0   \n",
       "\n",
       "  aiddata_feasibility_study aiddata_technical_assistance  \\\n",
       "0                         0                            0   \n",
       "1                         0                            0   \n",
       "\n",
       "  coalesced_purpose_code     coalesced_purpose_name  aiddata_is_conflict  \n",
       "0                  92010   Support to national ngos                    0  \n",
       "1                  72010  Emergency/distress relief                    0  \n",
       "\n",
       "[2 rows x 99 columns]"
      ]
     },
     "execution_count": 206,
     "metadata": {},
     "output_type": "execute_result"
    }
   ],
   "source": [
    "#get rid of nulls\n",
    "df=df.fillna(0)\n",
    "df.head(2)"
   ]
  },
  {
   "cell_type": "code",
   "execution_count": 358,
   "metadata": {
    "collapsed": false
   },
   "outputs": [
    {
     "data": {
      "text/plain": [
       "['commitment_amount',\n",
       " 'commitment_amount_currency',\n",
       " 'commitment_amount_usd_nominal',\n",
       " 'commitment_amount_usd_constant',\n",
       " 'disbursement_amount',\n",
       " 'disbursement_amount_currency',\n",
       " 'disbursement_amount_usd_nominal',\n",
       " 'disbursement_amount_usd_constant',\n",
       " 'crs_flow_name',\n",
       " 'untied_amount_usd_nominal',\n",
       " 'partial_tied_amount_usd_nominal',\n",
       " 'tied_amount_usd_nominal',\n",
       " 'received_amount_usd_nominal',\n",
       " 'irtc_amount_usd_nominal',\n",
       " 'expert_commitment_amount_usd_nominal',\n",
       " 'expert_extended_amount_usd_nominal',\n",
       " 'export_credit_amount_usd_nominal',\n",
       " 'outstanding_amount_usd_nominal',\n",
       " 'arrears_principal_amount_usd_nominal',\n",
       " 'arrears_interest_amount_usd_nominal',\n",
       " 'future_ds_principal_amount_usd_nominal',\n",
       " 'future_ds_interest_amount_usd_nominal',\n",
       " 'crs_purpose_name',\n",
       " 'sector_programme',\n",
       " 'aiddata_purpose_name',\n",
       " 'aiddata_activity_name',\n",
       " 'coalesced_purpose_name']"
      ]
     },
     "execution_count": 358,
     "metadata": {},
     "output_type": "execute_result"
    }
   ],
   "source": [
    "filter(lambda x: 'am' in x, df.columns)"
   ]
  },
  {
   "cell_type": "code",
   "execution_count": 207,
   "metadata": {
    "collapsed": false
   },
   "outputs": [],
   "source": [
    "#Change sector to easily digestible format\n",
    "mapping={\"X. Support to NGO's\":'NGO support', 'VIII.1. Emergency Response':'Emergency',\n",
    "       'I.5.a. Government & Civil Society-general':'Government',\n",
    "       'I.5.b. Conflict, Peace & Security':'Peace',\n",
    "       'II.4. Banking & Financial Services':'Banking', 'IV.2. Other Multisector':'Multisector', 0:'Other',\n",
    "       'I.6. Other Social Infrastructure & Services':'Infrastructure',\n",
    "       'I.1.a. Education, Level Unspecified':'Education', 'I.1.b. Basic Education':'Education',\n",
    "       'II.5. Business & Other Services':'Business',\n",
    "       'I.1.d. Post-Secondary Education':'Education', 'I.2.a. Health, General':'Health',\n",
    "       'IX. Administrative Costs of Donors':'Administrative', 'III.1.a. Agriculture':'Agriculture',\n",
    "       'I.4. Water Supply & Sanitation':'Water', 'III.1.b. Forestry':'Forestry',\n",
    "       'XII. Unallocated / Unspecified':'Unspecified', 'III.1.c. Fishing':'Fishing',\n",
    "       'II.2. Communications':'Communications', 'III.3.a. Trade Policies & Regulations':'Trade',\n",
    "       'I.3. Population Pol./Progr. & Reproductive Health':'Health',\n",
    "       'I.2.b. Basic Health':'Health', 'III.2.a. Industry':'Industry',\n",
    "       'I.1.c. Secondary Education':'Education',\n",
    "       'VI.2. Dev. Food Aid/Food Security Ass.':'Food Security', 'II.3. Energy':'Energy',\n",
    "       'IV.1. General Environment Protection':'Environment', 'II.1. Transport & Storage':'Transportation',\n",
    "       'III.3.b. Tourism':'Tourism', 'VI.1. General Budget Support':'Budget',\n",
    "       'VII. Action Relating to Debt':'Debt',\n",
    "       'VIII.2. Reconstruction Relief & Rehabilitation':'Reconstruction',\n",
    "       'VIII.3. Disaster Prevention & Preparedness':'Disaster Prevention',\n",
    "       'III.2.b. Mineral Resources & Mining':'Mineral Resources',\n",
    "       'XI. Refugees in Donor Countries':'Refugees', 'VI.3. Other Commodity Ass.':'Commodity',\n",
    "       'III.2.c. Construction':'Construction'}"
   ]
  },
  {
   "cell_type": "code",
   "execution_count": 208,
   "metadata": {
    "collapsed": false
   },
   "outputs": [],
   "source": [
    "df.sector=df.sector.map(mapping)"
   ]
  },
  {
   "cell_type": "code",
   "execution_count": 209,
   "metadata": {
    "collapsed": false
   },
   "outputs": [],
   "source": [
    "df=df[df.aiddata_id!=2445044] #appears to have flawed amount numbers"
   ]
  },
  {
   "cell_type": "code",
   "execution_count": 210,
   "metadata": {
    "collapsed": false
   },
   "outputs": [
    {
     "data": {
      "text/plain": [
       "(4.05976345157199, 0.9828183649235868, 2.800125861167532)"
      ]
     },
     "execution_count": 210,
     "metadata": {},
     "output_type": "execute_result"
    }
   ],
   "source": [
    "#sanity check\n",
    "df.commitment_amount_usd_nominal.sum()/1e12, \\\n",
    "df.disbursement_amount_usd_nominal.sum()/1e12,\\\n",
    "df.total_project_cost_usd_nominal.sum()/1e12"
   ]
  },
  {
   "cell_type": "code",
   "execution_count": 211,
   "metadata": {
    "collapsed": false
   },
   "outputs": [],
   "source": [
    "#Select features of interest\n",
    "df1=df[['donor',\\\n",
    "'recipient',\\\n",
    "'sector',\\\n",
    "'disbursement_amount_usd_nominal',\\\n",
    "'commitment_amount_usd_nominal',\\\n",
    "'total_project_cost_usd_nominal']]"
   ]
  },
  {
   "cell_type": "code",
   "execution_count": 212,
   "metadata": {
    "collapsed": false
   },
   "outputs": [
    {
     "data": {
      "text/html": [
       "<div>\n",
       "<table border=\"1\" class=\"dataframe\">\n",
       "  <thead>\n",
       "    <tr style=\"text-align: right;\">\n",
       "      <th></th>\n",
       "      <th>donor</th>\n",
       "      <th>recipient</th>\n",
       "      <th>sector</th>\n",
       "      <th>disbursement_amount_usd_nominal</th>\n",
       "      <th>commitment_amount_usd_nominal</th>\n",
       "      <th>total_project_cost_usd_nominal</th>\n",
       "    </tr>\n",
       "  </thead>\n",
       "  <tbody>\n",
       "    <tr>\n",
       "      <th>0</th>\n",
       "      <td>Belgium</td>\n",
       "      <td>El Salvador</td>\n",
       "      <td>NGO support</td>\n",
       "      <td>254814.262641</td>\n",
       "      <td>254814</td>\n",
       "      <td>0</td>\n",
       "    </tr>\n",
       "    <tr>\n",
       "      <th>1</th>\n",
       "      <td>United Kingdom</td>\n",
       "      <td>Guatemala</td>\n",
       "      <td>Emergency</td>\n",
       "      <td>154440.154440</td>\n",
       "      <td>154440</td>\n",
       "      <td>0</td>\n",
       "    </tr>\n",
       "  </tbody>\n",
       "</table>\n",
       "</div>"
      ],
      "text/plain": [
       "            donor    recipient       sector  disbursement_amount_usd_nominal  \\\n",
       "0         Belgium  El Salvador  NGO support                    254814.262641   \n",
       "1  United Kingdom    Guatemala    Emergency                    154440.154440   \n",
       "\n",
       "   commitment_amount_usd_nominal  total_project_cost_usd_nominal  \n",
       "0                         254814                               0  \n",
       "1                         154440                               0  "
      ]
     },
     "execution_count": 212,
     "metadata": {},
     "output_type": "execute_result"
    }
   ],
   "source": [
    "df1.head(2)"
   ]
  },
  {
   "cell_type": "code",
   "execution_count": 213,
   "metadata": {
    "collapsed": true
   },
   "outputs": [],
   "source": [
    "amt_feature='commitment_amount_usd_nominal'"
   ]
  },
  {
   "cell_type": "code",
   "execution_count": 214,
   "metadata": {
    "collapsed": false
   },
   "outputs": [],
   "source": [
    "#get donor to sector\n",
    "d2s=df1[['donor','sector',amt_feature]]\\\n",
    ".groupby(['donor','sector']).sum().reset_index().\\\n",
    "sort_values(amt_feature,ascending=[0])\n",
    "d2s.columns=['source','target','weight']"
   ]
  },
  {
   "cell_type": "code",
   "execution_count": 215,
   "metadata": {
    "collapsed": false
   },
   "outputs": [],
   "source": [
    "#get sector to recipient\n",
    "s2r=df1[['sector','recipient',amt_feature]]\\\n",
    ".groupby(['recipient','sector']).sum().reset_index().\\\n",
    "sort_values(amt_feature,ascending=[0])\n",
    "s2r=s2r[['sector','recipient',amt_feature]]\n",
    "s2r.columns=['source','target','weight']"
   ]
  },
  {
   "cell_type": "markdown",
   "metadata": {},
   "source": [
    "### Top 5 donors to top 10 recipients through top 5 sectors\n",
    "for cases with more than USD 100 million disbursed"
   ]
  },
  {
   "cell_type": "code",
   "execution_count": 216,
   "metadata": {
    "collapsed": false
   },
   "outputs": [],
   "source": [
    "#get top 5 sectors (Exclude other which is the number 1 sector)\n",
    "sct1= list(df1[[amt_feature,'sector']].groupby(['sector']).sum()\\\n",
    ".reset_index().sort_values(amt_feature,ascending=[0])\\\n",
    ".sector[1:8])"
   ]
  },
  {
   "cell_type": "code",
   "execution_count": 217,
   "metadata": {
    "collapsed": false
   },
   "outputs": [],
   "source": [
    "#take donors and recipients only as long as they are in the sectors of interest\n",
    "d2s_subset=d2s[d2s.target.isin(sct1)]\n",
    "s2r_subset=s2r[s2r.source.isin(sct1)]"
   ]
  },
  {
   "cell_type": "code",
   "execution_count": 218,
   "metadata": {
    "collapsed": false
   },
   "outputs": [],
   "source": [
    "#how top 5 donors give aid\n",
    "#how top 15 recipients receive aid\n",
    "rcp1=s2r_subset.groupby('target').sum().reset_index().sort_values('weight',ascending=[0]).target[0:10]\n",
    "dnr1=d2s_subset.groupby('source').sum().reset_index().sort_values('weight',ascending=[0]).source[0:5]"
   ]
  },
  {
   "cell_type": "code",
   "execution_count": 219,
   "metadata": {
    "collapsed": true
   },
   "outputs": [],
   "source": [
    "#take donors and recipients only as long as they are top 10 or top 5\n",
    "d2s_subset1=d2s_subset[d2s_subset.source.isin(dnr1)]\n",
    "s2r_subset1=s2r_subset[s2r_subset.target.isin(rcp1)]"
   ]
  },
  {
   "cell_type": "code",
   "execution_count": 220,
   "metadata": {
    "collapsed": true
   },
   "outputs": [],
   "source": [
    "df_final=pd.concat([d2s_subset1,s2r_subset1],0).sort_values('weight',ascending=[0])"
   ]
  },
  {
   "cell_type": "code",
   "execution_count": 221,
   "metadata": {
    "collapsed": false
   },
   "outputs": [],
   "source": [
    "nodes=pd.DataFrame(pd.concat([df_final.source,df_final.target],0).unique(), columns=['id'])\n",
    "idx=range(nodes.shape[0])\n",
    "dc=dict()\n",
    "#create a dictionary to establish a map\n",
    "for i in idx:\n",
    "    dc[nodes.iloc[i].id]=i"
   ]
  },
  {
   "cell_type": "code",
   "execution_count": 222,
   "metadata": {
    "collapsed": true
   },
   "outputs": [],
   "source": [
    "df_final.source=df_final.source.map(dc)\n",
    "df_final.target=df_final.target.map(dc)"
   ]
  },
  {
   "cell_type": "code",
   "execution_count": 223,
   "metadata": {
    "collapsed": false
   },
   "outputs": [],
   "source": [
    "#Get rid of data where aid is low\n",
    "df_final=df_final[df_final.weight > 1e8]"
   ]
  },
  {
   "cell_type": "code",
   "execution_count": 224,
   "metadata": {
    "collapsed": false
   },
   "outputs": [],
   "source": [
    "#Convert to billion and save file\n",
    "df_final.weight=df_final.weight*1.0/1e9\n",
    "df_final.to_csv('links.csv')\n",
    "nodes.to_csv('nodes.csv')"
   ]
  },
  {
   "cell_type": "markdown",
   "metadata": {},
   "source": [
    "### Aid flow to Nepal \n",
    "(for cases with more than 10 million USD disbursed)"
   ]
  },
  {
   "cell_type": "code",
   "execution_count": 225,
   "metadata": {
    "collapsed": false
   },
   "outputs": [],
   "source": [
    "country_list=['Nepal', 'Sri Lanka']\n",
    "# Get the sectors when recipient is Nepal\n",
    "df_nep_temp=pd.concat([d2s,s2r],0).sort_values('weight',ascending=[0])\n",
    "s2r_nep=df_nep_temp[df_nep_temp.target.isin(country_list)]\n",
    "s2r_nep=s2r_nep[s2r_nep.weight>1e7]"
   ]
  },
  {
   "cell_type": "code",
   "execution_count": 226,
   "metadata": {
    "collapsed": false
   },
   "outputs": [],
   "source": [
    "#get donor to sector for when recipient is Nepal\n",
    "d2s_nep=df1[['donor','sector',amt_feature]]\\\n",
    "[df1.recipient.isin(country_list)]\\\n",
    ".groupby(['donor','sector']).sum().reset_index().\\\n",
    "sort_values(amt_feature,ascending=[0])\n",
    "d2s_nep.columns=['source','target','weight']\n",
    "d2s_nep=d2s_nep[d2s_nep.weight>1e7]"
   ]
  },
  {
   "cell_type": "code",
   "execution_count": 227,
   "metadata": {
    "collapsed": true
   },
   "outputs": [],
   "source": [
    "#get the top \"n\" sectors\n",
    "sct_nep=pd.concat([d2s_nep[['target','weight']],s2r_nep[['source','weight']].\\\n",
    "                   rename(columns={'source': 'target'})],0).\\\n",
    "groupby('target').sum().reset_index().sort_values('weight',ascending=[0]).target[0:10]"
   ]
  },
  {
   "cell_type": "code",
   "execution_count": 228,
   "metadata": {
    "collapsed": true
   },
   "outputs": [],
   "source": [
    "d2s_nep_subset=d2s_nep[d2s_nep.target.isin(sct_nep)]\n",
    "s2r_nep_subset=s2r_nep[s2r_nep.source.isin(sct_nep)]"
   ]
  },
  {
   "cell_type": "code",
   "execution_count": 229,
   "metadata": {
    "collapsed": true
   },
   "outputs": [],
   "source": [
    "#take top 15 donors only\n",
    "dnr_nep=d2s_nep_subset.groupby('source').sum().reset_index().sort_values('weight',ascending=[0]).source[0:20]\n",
    "d2s_nep_subset1=d2s_nep_subset[d2s_nep_subset.source.isin(dnr_nep)]"
   ]
  },
  {
   "cell_type": "code",
   "execution_count": 230,
   "metadata": {
    "collapsed": true
   },
   "outputs": [],
   "source": [
    "df_nep=pd.concat([d2s_nep_subset1,s2r_nep_subset],0).sort_values('weight',ascending=[0])"
   ]
  },
  {
   "cell_type": "code",
   "execution_count": 231,
   "metadata": {
    "collapsed": true
   },
   "outputs": [],
   "source": [
    "nodes_nep=pd.DataFrame(pd.concat([df_nep.source,df_nep.target],0).unique(), columns=['id'])\n",
    "idx_nep=range(nodes_nep.shape[0])\n",
    "dc_nep=dict()\n",
    "#create a dictionary to establish a map\n",
    "for i in idx_nep:\n",
    "    dc_nep[nodes_nep.iloc[i].id]=i"
   ]
  },
  {
   "cell_type": "code",
   "execution_count": 232,
   "metadata": {
    "collapsed": true
   },
   "outputs": [],
   "source": [
    "df_nep.source=df_nep.source.map(dc_nep)\n",
    "df_nep.target=df_nep.target.map(dc_nep)"
   ]
  },
  {
   "cell_type": "code",
   "execution_count": 233,
   "metadata": {
    "collapsed": true
   },
   "outputs": [],
   "source": [
    "df_nep=df_nep[df_nep.weight > 1e7]"
   ]
  },
  {
   "cell_type": "code",
   "execution_count": 234,
   "metadata": {
    "collapsed": true
   },
   "outputs": [],
   "source": [
    "#Convert to billion and save file\n",
    "df_nep.weight=df_nep.weight*1.0/1e6\n",
    "df_nep.to_csv('links_nep.csv')\n",
    "nodes_nep.to_csv('nodes_nep.csv')"
   ]
  },
  {
   "cell_type": "code",
   "execution_count": 235,
   "metadata": {
    "collapsed": false
   },
   "outputs": [],
   "source": [
    "#sanity check (it should be zero if 1 million threshold on s2r_nep and d2s_nep is not applied)\n",
    "#s2r_nep.weight.sum()-d2s_nep.weight.sum()"
   ]
  },
  {
   "cell_type": "code",
   "execution_count": 353,
   "metadata": {
    "collapsed": false
   },
   "outputs": [
    {
     "data": {
      "text/html": [
       "\n",
       "        <iframe\n",
       "            width=\"750\"\n",
       "            height=\"550\"\n",
       "            src=\"sankey_aid_data_2016.html?lineheight=0&display=block&scroll=False\"\n",
       "            frameborder=\"0\"\n",
       "            allowfullscreen\n",
       "        ></iframe>\n",
       "        "
      ],
      "text/plain": [
       "<IPython.lib.display.IFrame at 0x10be28b10>"
      ]
     },
     "execution_count": 353,
     "metadata": {},
     "output_type": "execute_result"
    }
   ],
   "source": [
    "from IPython.display import IFrame\n",
    "IFrame('sankey_aid_data_2016.html',width=750,height=550, scroll=False,display='block',lineheight=0)"
   ]
  },
  {
   "cell_type": "code",
   "execution_count": 355,
   "metadata": {
    "collapsed": false
   },
   "outputs": [
    {
     "data": {
      "text/html": [
       "\n",
       "        <iframe\n",
       "            width=\"750\"\n",
       "            height=\"550\"\n",
       "            src=\"sankey_aid_data_nep_2016.html?lineheight=0&display=block&scroll=False\"\n",
       "            frameborder=\"0\"\n",
       "            allowfullscreen\n",
       "        ></iframe>\n",
       "        "
      ],
      "text/plain": [
       "<IPython.lib.display.IFrame at 0x188ece610>"
      ]
     },
     "execution_count": 355,
     "metadata": {},
     "output_type": "execute_result"
    }
   ],
   "source": [
    "IFrame('sankey_aid_data_nep_2016.html',width=750,height=550, scroll=False,display='block',lineheight=0)"
   ]
  },
  {
   "cell_type": "code",
   "execution_count": 356,
   "metadata": {
    "collapsed": false
   },
   "outputs": [
    {
     "data": {
      "text/html": [
       "\n",
       "        <iframe\n",
       "            width=\"750\"\n",
       "            height=\"550\"\n",
       "            src=\"sankey_aid_data.html?lineheight=0&display=block&scroll=False\"\n",
       "            frameborder=\"0\"\n",
       "            allowfullscreen\n",
       "        ></iframe>\n",
       "        "
      ],
      "text/plain": [
       "<IPython.lib.display.IFrame at 0x188ece650>"
      ]
     },
     "execution_count": 356,
     "metadata": {},
     "output_type": "execute_result"
    }
   ],
   "source": [
    "IFrame('sankey_aid_data.html',width=750,height=550, scroll=False,display='block',lineheight=0)"
   ]
  },
  {
   "cell_type": "code",
   "execution_count": 357,
   "metadata": {
    "collapsed": false
   },
   "outputs": [
    {
     "data": {
      "text/html": [
       "\n",
       "        <iframe\n",
       "            width=\"750\"\n",
       "            height=\"550\"\n",
       "            src=\"sankey_aid_data_nep.html?lineheight=0&display=block&scroll=False\"\n",
       "            frameborder=\"0\"\n",
       "            allowfullscreen\n",
       "        ></iframe>\n",
       "        "
      ],
      "text/plain": [
       "<IPython.lib.display.IFrame at 0x188ece550>"
      ]
     },
     "execution_count": 357,
     "metadata": {},
     "output_type": "execute_result"
    }
   ],
   "source": [
    "IFrame('sankey_aid_data_nep.html',width=750,height=550, scroll=False,display='block',lineheight=0)"
   ]
  },
  {
   "cell_type": "code",
   "execution_count": 376,
   "metadata": {
    "collapsed": false,
    "scrolled": true
   },
   "outputs": [
    {
     "data": {
      "text/html": [
       "\n",
       "        <iframe\n",
       "            width=\"500\"\n",
       "            height=\"540\"\n",
       "            src=\"treemap_dis_pc.html?lineheight=0&display=block&scroll=False\"\n",
       "            frameborder=\"0\"\n",
       "            allowfullscreen\n",
       "        ></iframe>\n",
       "        "
      ],
      "text/plain": [
       "<IPython.lib.display.IFrame at 0x188ece6d0>"
      ]
     },
     "execution_count": 376,
     "metadata": {},
     "output_type": "execute_result"
    }
   ],
   "source": [
    "IFrame('treemap_dis_pc.html',width=500,height=540, scroll=False,display='block',lineheight=0)"
   ]
  },
  {
   "cell_type": "code",
   "execution_count": 379,
   "metadata": {
    "collapsed": false
   },
   "outputs": [
    {
     "data": {
      "text/html": [
       "\n",
       "        <iframe\n",
       "            width=\"600\"\n",
       "            height=\"640\"\n",
       "            src=\"treemap_com_dis.html?lineheight=0&display=block&scroll=False\"\n",
       "            frameborder=\"0\"\n",
       "            allowfullscreen\n",
       "        ></iframe>\n",
       "        "
      ],
      "text/plain": [
       "<IPython.lib.display.IFrame at 0x197f1ef90>"
      ]
     },
     "execution_count": 379,
     "metadata": {},
     "output_type": "execute_result"
    }
   ],
   "source": [
    "IFrame('treemap_com_dis.html',width=600,height=640, scroll=False,display='block',lineheight=0)"
   ]
  },
  {
   "cell_type": "code",
   "execution_count": null,
   "metadata": {
    "collapsed": true
   },
   "outputs": [],
   "source": []
  }
 ],
 "metadata": {
  "kernelspec": {
   "display_name": "Python 2",
   "language": "python",
   "name": "python2"
  },
  "language_info": {
   "codemirror_mode": {
    "name": "ipython",
    "version": 2
   },
   "file_extension": ".py",
   "mimetype": "text/x-python",
   "name": "python",
   "nbconvert_exporter": "python",
   "pygments_lexer": "ipython2",
   "version": "2.7.10"
  }
 },
 "nbformat": 4,
 "nbformat_minor": 0
}

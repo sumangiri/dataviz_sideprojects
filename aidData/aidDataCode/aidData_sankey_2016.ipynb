{
 "cells": [
  {
   "cell_type": "markdown",
   "metadata": {},
   "source": [
    "## Things to do:\n",
    "#http://aiddata.org/country-level-research-datasets\n",
    "1. Country to Country: sankey diagram with (a) sector in the middle (b) umbrella in the middle\n",
    "2. *Liars*:  disbursed - committed (color shows # of failures): square tree \n",
    "3. *Corrupts*: total project cost- disbursed (color shows # of failures): square tree [do it by filtering for projects that were completed, i.e. start_date and end_date not zero]\n",
    "4. **Association rule mining** on categorical variables associated with Nepal. (Present as word cloud with importance based on lift)\n",
    "5. Pick some variables and predict whether a project is completed or not. rank the variables by importance. "
   ]
  },
  {
   "cell_type": "code",
   "execution_count": 92,
   "metadata": {
    "collapsed": false
   },
   "outputs": [],
   "source": [
    "#load aid data, downloaded from http://aiddata.org/country-level-research-datasets\n",
    "import pandas as pd\n",
    "df=pd.read_csv('/Users/sumangiri/Downloads/AidData_v3_0/AidData_v3_0.csv')"
   ]
  },
  {
   "cell_type": "code",
   "execution_count": 93,
   "metadata": {
    "collapsed": false,
    "scrolled": true
   },
   "outputs": [
    {
     "data": {
      "text/html": [
       "<div>\n",
       "<table border=\"1\" class=\"dataframe\">\n",
       "  <thead>\n",
       "    <tr style=\"text-align: right;\">\n",
       "      <th></th>\n",
       "      <th>aiddata_id</th>\n",
       "      <th>aiddata_2_id</th>\n",
       "      <th>year</th>\n",
       "      <th>donor</th>\n",
       "      <th>donor_iso</th>\n",
       "      <th>donor_region</th>\n",
       "      <th>implementing_agency</th>\n",
       "      <th>financing_agency</th>\n",
       "      <th>crs_bi_multi</th>\n",
       "      <th>recipient</th>\n",
       "      <th>...</th>\n",
       "      <th>ftc</th>\n",
       "      <th>repay_type</th>\n",
       "      <th>outstanding_amount_usd_nominal</th>\n",
       "      <th>interest_amount_usd_nominal</th>\n",
       "      <th>expert_commitment_amount_usd_nominal</th>\n",
       "      <th>export_credit_amount_usd_nominal</th>\n",
       "      <th>expert_extended_amount_usd_nominal</th>\n",
       "      <th>additional_info</th>\n",
       "      <th>source</th>\n",
       "      <th>source_detail</th>\n",
       "    </tr>\n",
       "  </thead>\n",
       "  <tbody>\n",
       "    <tr>\n",
       "      <th>0</th>\n",
       "      <td>54886623</td>\n",
       "      <td>31549672</td>\n",
       "      <td>2007</td>\n",
       "      <td>Germany</td>\n",
       "      <td>DE</td>\n",
       "      <td>Europe</td>\n",
       "      <td>Other</td>\n",
       "      <td>Fed.Min.</td>\n",
       "      <td>1</td>\n",
       "      <td>Brazil</td>\n",
       "      <td>...</td>\n",
       "      <td>1</td>\n",
       "      <td>0</td>\n",
       "      <td>0</td>\n",
       "      <td>0</td>\n",
       "      <td>0</td>\n",
       "      <td>0</td>\n",
       "      <td>0</td>\n",
       "      <td>0</td>\n",
       "      <td>OECD</td>\n",
       "      <td>CRS_ONLINE_MAY2011</td>\n",
       "    </tr>\n",
       "    <tr>\n",
       "      <th>1</th>\n",
       "      <td>54886662</td>\n",
       "      <td>18924088</td>\n",
       "      <td>2003</td>\n",
       "      <td>Belgium</td>\n",
       "      <td>BE</td>\n",
       "      <td>Europe</td>\n",
       "      <td>DGCD ONG</td>\n",
       "      <td>DGCD</td>\n",
       "      <td>1</td>\n",
       "      <td>Congo, Democratic Republic of</td>\n",
       "      <td>...</td>\n",
       "      <td>1</td>\n",
       "      <td>0</td>\n",
       "      <td>0</td>\n",
       "      <td>0</td>\n",
       "      <td>0</td>\n",
       "      <td>0</td>\n",
       "      <td>0</td>\n",
       "      <td>0</td>\n",
       "      <td>OECD</td>\n",
       "      <td>CRS_ONLINE_MAY2011</td>\n",
       "    </tr>\n",
       "  </tbody>\n",
       "</table>\n",
       "<p>2 rows × 68 columns</p>\n",
       "</div>"
      ],
      "text/plain": [
       "   aiddata_id  aiddata_2_id  year    donor donor_iso donor_region  \\\n",
       "0    54886623      31549672  2007  Germany        DE       Europe   \n",
       "1    54886662      18924088  2003  Belgium        BE       Europe   \n",
       "\n",
       "  implementing_agency financing_agency  crs_bi_multi  \\\n",
       "0               Other         Fed.Min.             1   \n",
       "1            DGCD ONG             DGCD             1   \n",
       "\n",
       "                       recipient         ...         ftc repay_type  \\\n",
       "0                         Brazil         ...           1          0   \n",
       "1  Congo, Democratic Republic of         ...           1          0   \n",
       "\n",
       "  outstanding_amount_usd_nominal interest_amount_usd_nominal  \\\n",
       "0                              0                           0   \n",
       "1                              0                           0   \n",
       "\n",
       "  expert_commitment_amount_usd_nominal  export_credit_amount_usd_nominal  \\\n",
       "0                                    0                                 0   \n",
       "1                                    0                                 0   \n",
       "\n",
       "   expert_extended_amount_usd_nominal additional_info source  \\\n",
       "0                                   0               0   OECD   \n",
       "1                                   0               0   OECD   \n",
       "\n",
       "        source_detail  \n",
       "0  CRS_ONLINE_MAY2011  \n",
       "1  CRS_ONLINE_MAY2011  \n",
       "\n",
       "[2 rows x 68 columns]"
      ]
     },
     "execution_count": 93,
     "metadata": {},
     "output_type": "execute_result"
    }
   ],
   "source": [
    "#get rid of nulls\n",
    "df=df.fillna(0)\n",
    "df.head(2)"
   ]
  },
  {
   "cell_type": "code",
   "execution_count": 94,
   "metadata": {
    "collapsed": false
   },
   "outputs": [],
   "source": [
    "df.rename(columns={'aiddata_sector_name': 'sector'}, inplace=True)"
   ]
  },
  {
   "cell_type": "code",
   "execution_count": 95,
   "metadata": {
    "collapsed": false
   },
   "outputs": [],
   "source": [
    "#Change sector to easily digestible format\n",
    "mapping={'General environmental protection':'Environment', 'Basic health':'Health',\n",
    "       'Development aid/food security assistance':'Development',\n",
    "       'Population policies/ programmes and reproductive health':'Health',\n",
    "       'Basic education':'Education', 'Communications':'Communication',\n",
    "       'Other social infrastructure and services':'Infrastructure', 'Other':'Other',\n",
    "       'Government and civil society, general':'Government', 'Emergency response':'Emergency',\n",
    "       'Unallocated/  unspecified':'Unspecified', 'Trade policy and regulations':'Trade',\n",
    "       'Business and other services':'Business', 'General budget support':'Budget',\n",
    "       'Conflict prevention and resolution, peace and security':'Security',\n",
    "       'Transport and storage':'Transportation',\n",
    "       'Support to non- governmental organisations (ngos) and government organizations':'NGOs',\n",
    "       'Health, general':'Health', 'Banking and financial services':'Finance',\n",
    "       'Administrative costs of donors':'Administrative', 'Post-secondary education':'Education',\n",
    "       'Forestry':'Forestry', 'Secondary education':'Education', 'Agriculture':'Agriculture', 'Fishing':'Fishing',\n",
    "       'Water supply and sanitation':'Water', 'Education, level unspecified':'Education',\n",
    "       'Disaster prevention and preparedness':'Disaster',\n",
    "       'Energy generation and supply':'Energy', 'Reconstruction relief':'Reconstruction', 'Tourism':'Tourism',\n",
    "       'Women':'Women', 'Industry':'Industry', 'Action relating to debt':'Debt',\n",
    "       'Mineral resources and mining':'Minerals', 'Construction':'Construction', 'Humanitarian aid':'Humanitarian',\n",
    "       'Refugees in donor countries':'Refugees', 'Government and civil society':'Government',\n",
    "       'Other commodity assistance':'Commodity', 'Agriculture, forestry, fishing':'Agriculture',\n",
    "       'Health':'Health', 'Industry, mining, construction':'Industry', ' ':'Other', 'Education':'Education',\n",
    "       'Economic infrastructure and services':'Infrastructure', 'Production sectors':'Production',\n",
    "       'Social infrastructure and services':'Infrastructure'}"
   ]
  },
  {
   "cell_type": "code",
   "execution_count": 96,
   "metadata": {
    "collapsed": false
   },
   "outputs": [],
   "source": [
    "df.sector=df.sector.map(mapping)"
   ]
  },
  {
   "cell_type": "code",
   "execution_count": 97,
   "metadata": {
    "collapsed": true
   },
   "outputs": [],
   "source": [
    "mapping2={'World Bank - International Bank for Reconstruction and Development (IBRD)': 'World Bank (IBRD)',\\\n",
    "         'World Trade Organization (WTO) - International Trade Centre': 'World Bank (WTO)',\\\n",
    "          'World Bank - International Development Association (IDA)': 'World Bank (IDA)',\\\n",
    "          'World Bank - International Finance Corporation (IFC)': 'World Bank (IFC)'}\n",
    "# df.donor=df.donor.map(mapping2)"
   ]
  },
  {
   "cell_type": "code",
   "execution_count": 98,
   "metadata": {
    "collapsed": true
   },
   "outputs": [],
   "source": [
    "df['donor'] = df['donor'].replace(mapping2)"
   ]
  },
  {
   "cell_type": "code",
   "execution_count": 100,
   "metadata": {
    "collapsed": false
   },
   "outputs": [
    {
     "data": {
      "text/html": [
       "<div>\n",
       "<table border=\"1\" class=\"dataframe\">\n",
       "  <thead>\n",
       "    <tr style=\"text-align: right;\">\n",
       "      <th></th>\n",
       "      <th>aiddata_id</th>\n",
       "      <th>aiddata_2_id</th>\n",
       "      <th>year</th>\n",
       "      <th>donor</th>\n",
       "      <th>donor_iso</th>\n",
       "      <th>donor_region</th>\n",
       "      <th>implementing_agency</th>\n",
       "      <th>financing_agency</th>\n",
       "      <th>crs_bi_multi</th>\n",
       "      <th>recipient</th>\n",
       "      <th>...</th>\n",
       "      <th>ftc</th>\n",
       "      <th>repay_type</th>\n",
       "      <th>outstanding_amount_usd_nominal</th>\n",
       "      <th>interest_amount_usd_nominal</th>\n",
       "      <th>expert_commitment_amount_usd_nominal</th>\n",
       "      <th>export_credit_amount_usd_nominal</th>\n",
       "      <th>expert_extended_amount_usd_nominal</th>\n",
       "      <th>additional_info</th>\n",
       "      <th>source</th>\n",
       "      <th>source_detail</th>\n",
       "    </tr>\n",
       "  </thead>\n",
       "  <tbody>\n",
       "    <tr>\n",
       "      <th>1244777</th>\n",
       "      <td>2445044</td>\n",
       "      <td>0</td>\n",
       "      <td>1996</td>\n",
       "      <td>Nordic Development Fund (NDF)</td>\n",
       "      <td>0</td>\n",
       "      <td>Multilaterals</td>\n",
       "      <td>0</td>\n",
       "      <td>0</td>\n",
       "      <td>0</td>\n",
       "      <td>South Africa</td>\n",
       "      <td>...</td>\n",
       "      <td>0</td>\n",
       "      <td>0</td>\n",
       "      <td>0</td>\n",
       "      <td>0</td>\n",
       "      <td>0</td>\n",
       "      <td>0</td>\n",
       "      <td>0</td>\n",
       "      <td>private sector project</td>\n",
       "      <td>Annual Report</td>\n",
       "      <td>0</td>\n",
       "    </tr>\n",
       "  </tbody>\n",
       "</table>\n",
       "<p>1 rows × 68 columns</p>\n",
       "</div>"
      ],
      "text/plain": [
       "         aiddata_id  aiddata_2_id  year                          donor  \\\n",
       "1244777     2445044             0  1996  Nordic Development Fund (NDF)   \n",
       "\n",
       "        donor_iso   donor_region implementing_agency financing_agency  \\\n",
       "1244777         0  Multilaterals                   0                0   \n",
       "\n",
       "         crs_bi_multi     recipient      ...      ftc repay_type  \\\n",
       "1244777             0  South Africa      ...        0          0   \n",
       "\n",
       "        outstanding_amount_usd_nominal interest_amount_usd_nominal  \\\n",
       "1244777                              0                           0   \n",
       "\n",
       "        expert_commitment_amount_usd_nominal  \\\n",
       "1244777                                    0   \n",
       "\n",
       "         export_credit_amount_usd_nominal  expert_extended_amount_usd_nominal  \\\n",
       "1244777                                 0                                   0   \n",
       "\n",
       "                additional_info         source source_detail  \n",
       "1244777  private sector project  Annual Report             0  \n",
       "\n",
       "[1 rows x 68 columns]"
      ]
     },
     "execution_count": 100,
     "metadata": {},
     "output_type": "execute_result"
    }
   ],
   "source": [
    "df.loc[df.total_project_cost> 10e10]"
   ]
  },
  {
   "cell_type": "code",
   "execution_count": 101,
   "metadata": {
    "collapsed": false
   },
   "outputs": [],
   "source": [
    "df=df[df.aiddata_id!=2445044] #appears to have flawed amount numbers"
   ]
  },
  {
   "cell_type": "code",
   "execution_count": 102,
   "metadata": {
    "collapsed": false
   },
   "outputs": [
    {
     "data": {
      "text/plain": [
       "(7.042232705254, 0.011237852761466736, 4.549806002948007)"
      ]
     },
     "execution_count": 102,
     "metadata": {},
     "output_type": "execute_result"
    }
   ],
   "source": [
    "#sanity check\n",
    "df.commitment_amount_usd_constant.sum()/1e12, \\\n",
    "df.received_amount_usd_nominal.sum()/1e12,\\\n",
    "df.total_project_cost.sum()/1e12"
   ]
  },
  {
   "cell_type": "code",
   "execution_count": 103,
   "metadata": {
    "collapsed": false
   },
   "outputs": [],
   "source": [
    "#Select features of interest\n",
    "df1=df[['donor',\\\n",
    "'recipient',\\\n",
    "'sector',\\\n",
    "'commitment_amount_usd_constant',\\\n",
    "'received_amount_usd_nominal',\\\n",
    "'total_project_cost']]"
   ]
  },
  {
   "cell_type": "code",
   "execution_count": 234,
   "metadata": {
    "collapsed": false
   },
   "outputs": [
    {
     "data": {
      "text/html": [
       "<div>\n",
       "<table border=\"1\" class=\"dataframe\">\n",
       "  <thead>\n",
       "    <tr style=\"text-align: right;\">\n",
       "      <th></th>\n",
       "      <th>donor</th>\n",
       "      <th>recipient</th>\n",
       "      <th>sector</th>\n",
       "      <th>commitment_amount_usd_constant</th>\n",
       "      <th>received_amount_usd_nominal</th>\n",
       "      <th>total_project_cost</th>\n",
       "    </tr>\n",
       "  </thead>\n",
       "  <tbody>\n",
       "    <tr>\n",
       "      <th>0</th>\n",
       "      <td>Germany</td>\n",
       "      <td>Brazil</td>\n",
       "      <td>Environment</td>\n",
       "      <td>8799</td>\n",
       "      <td>0</td>\n",
       "      <td>0</td>\n",
       "    </tr>\n",
       "    <tr>\n",
       "      <th>1</th>\n",
       "      <td>Belgium</td>\n",
       "      <td>Congo, Democratic Republic of</td>\n",
       "      <td>Health</td>\n",
       "      <td>1864392</td>\n",
       "      <td>0</td>\n",
       "      <td>0</td>\n",
       "    </tr>\n",
       "  </tbody>\n",
       "</table>\n",
       "</div>"
      ],
      "text/plain": [
       "     donor                      recipient       sector  \\\n",
       "0  Germany                         Brazil  Environment   \n",
       "1  Belgium  Congo, Democratic Republic of       Health   \n",
       "\n",
       "   commitment_amount_usd_constant  received_amount_usd_nominal  \\\n",
       "0                            8799                            0   \n",
       "1                         1864392                            0   \n",
       "\n",
       "   total_project_cost  \n",
       "0                   0  \n",
       "1                   0  "
      ]
     },
     "execution_count": 234,
     "metadata": {},
     "output_type": "execute_result"
    }
   ],
   "source": [
    "df1.head(2)"
   ]
  },
  {
   "cell_type": "code",
   "execution_count": 268,
   "metadata": {
    "collapsed": true
   },
   "outputs": [],
   "source": [
    "amt_feature='commitment_amount_usd_constant'"
   ]
  },
  {
   "cell_type": "code",
   "execution_count": 269,
   "metadata": {
    "collapsed": false
   },
   "outputs": [],
   "source": [
    "#get donor to sector\n",
    "d2s=df1[['donor','sector',amt_feature]]\\\n",
    ".groupby(['donor','sector']).sum().reset_index().\\\n",
    "sort_values(amt_feature,ascending=[0])\n",
    "d2s.columns=['source','target','weight']"
   ]
  },
  {
   "cell_type": "code",
   "execution_count": 270,
   "metadata": {
    "collapsed": false
   },
   "outputs": [],
   "source": [
    "#get sector to recipient\n",
    "s2r=df1[['sector','recipient',amt_feature]]\\\n",
    ".groupby(['recipient','sector']).sum().reset_index().\\\n",
    "sort_values(amt_feature,ascending=[0])\n",
    "s2r=s2r[['sector','recipient',amt_feature]]\n",
    "s2r.columns=['source','target','weight']"
   ]
  },
  {
   "cell_type": "markdown",
   "metadata": {},
   "source": [
    "### Top 5 donors to top 10 recipients through top 5 sectors\n",
    "for cases with more than USD 100 million disbursed"
   ]
  },
  {
   "cell_type": "code",
   "execution_count": 271,
   "metadata": {
    "collapsed": false
   },
   "outputs": [],
   "source": [
    "#get top 5 sectors (Exclude other which is the number 1 sector)\n",
    "sct1= list(df1[[amt_feature,'sector']].groupby(['sector']).sum()\\\n",
    ".reset_index().sort_values(amt_feature,ascending=[0])\\\n",
    ".sector[1:8])"
   ]
  },
  {
   "cell_type": "code",
   "execution_count": 272,
   "metadata": {
    "collapsed": false
   },
   "outputs": [],
   "source": [
    "#take donors and recipients only as long as they are in the sectors of interest\n",
    "d2s_subset=d2s[d2s.target.isin(sct1)]\n",
    "s2r_subset=s2r[s2r.source.isin(sct1)]"
   ]
  },
  {
   "cell_type": "code",
   "execution_count": 273,
   "metadata": {
    "collapsed": false
   },
   "outputs": [],
   "source": [
    "#how top 5 donors give aid\n",
    "#how top 15 recipients receive aid\n",
    "rcp1=s2r_subset.groupby('target').sum().reset_index().sort_values('weight',ascending=[0]).target[0:10]\n",
    "dnr1=d2s_subset.groupby('source').sum().reset_index().sort_values('weight',ascending=[0]).source[0:5]"
   ]
  },
  {
   "cell_type": "code",
   "execution_count": 274,
   "metadata": {
    "collapsed": true
   },
   "outputs": [],
   "source": [
    "#take donors and recipients only as long as they are top 10 or top 5\n",
    "d2s_subset1=d2s_subset[d2s_subset.source.isin(dnr1)]\n",
    "s2r_subset1=s2r_subset[s2r_subset.target.isin(rcp1)]"
   ]
  },
  {
   "cell_type": "code",
   "execution_count": 275,
   "metadata": {
    "collapsed": true
   },
   "outputs": [],
   "source": [
    "df_final=pd.concat([d2s_subset1,s2r_subset1],0).sort_values('weight',ascending=[0])"
   ]
  },
  {
   "cell_type": "code",
   "execution_count": 276,
   "metadata": {
    "collapsed": false
   },
   "outputs": [],
   "source": [
    "nodes=pd.DataFrame(pd.concat([df_final.source,df_final.target],0).unique(), columns=['id'])\n",
    "idx=range(nodes.shape[0])\n",
    "dc=dict()\n",
    "#create a dictionary to establish a map\n",
    "for i in idx:\n",
    "    dc[nodes.iloc[i].id]=i"
   ]
  },
  {
   "cell_type": "code",
   "execution_count": 277,
   "metadata": {
    "collapsed": true
   },
   "outputs": [],
   "source": [
    "df_final.source=df_final.source.map(dc)\n",
    "df_final.target=df_final.target.map(dc)"
   ]
  },
  {
   "cell_type": "code",
   "execution_count": 278,
   "metadata": {
    "collapsed": false
   },
   "outputs": [],
   "source": [
    "#Get rid of data where aid is low\n",
    "df_final=df_final[df_final.weight > 1e8]"
   ]
  },
  {
   "cell_type": "code",
   "execution_count": 279,
   "metadata": {
    "collapsed": false
   },
   "outputs": [],
   "source": [
    "#Convert to billion and save file\n",
    "df_final.weight=df_final.weight*1.0/1e9\n",
    "df_final.to_csv('links_2016.csv')\n",
    "nodes.to_csv('nodes_2016.csv')"
   ]
  },
  {
   "cell_type": "markdown",
   "metadata": {},
   "source": [
    "### Aid flow to Nepal (in million)\n",
    "(for cases with more than 10 million USD committed. How top 20 donors give aid to Nepal and Srilanka over 6 major sectors)"
   ]
  },
  {
   "cell_type": "code",
   "execution_count": 280,
   "metadata": {
    "collapsed": false
   },
   "outputs": [],
   "source": [
    "country_list=['Nepal', 'Sri Lanka']\n",
    "# Get the sectors when recipient is Nepal\n",
    "df_nep_temp=pd.concat([d2s,s2r],0).sort_values('weight',ascending=[0])\n",
    "s2r_nep=df_nep_temp[df_nep_temp.target.isin(country_list)]\n",
    "s2r_nep=s2r_nep[s2r_nep.weight>1e7]"
   ]
  },
  {
   "cell_type": "code",
   "execution_count": 281,
   "metadata": {
    "collapsed": false
   },
   "outputs": [],
   "source": [
    "#get donor to sector for when recipient is Nepal\n",
    "d2s_nep=df1[['donor','sector',amt_feature]]\\\n",
    "[df1.recipient.isin(country_list)]\\\n",
    ".groupby(['donor','sector']).sum().reset_index().\\\n",
    "sort_values(amt_feature,ascending=[0])\n",
    "d2s_nep.columns=['source','target','weight']\n",
    "d2s_nep=d2s_nep[d2s_nep.weight>1e7]"
   ]
  },
  {
   "cell_type": "code",
   "execution_count": 282,
   "metadata": {
    "collapsed": false
   },
   "outputs": [],
   "source": [
    "#get the top \"n\" sectors\n",
    "sct_nep=pd.concat([d2s_nep[['target','weight']],s2r_nep[['source','weight']].\\\n",
    "                   rename(columns={'source': 'target'})],0).\\\n",
    "groupby('target').sum().reset_index().sort_values('weight',ascending=[0]).target[0:10]"
   ]
  },
  {
   "cell_type": "code",
   "execution_count": 283,
   "metadata": {
    "collapsed": true
   },
   "outputs": [],
   "source": [
    "d2s_nep_subset=d2s_nep[d2s_nep.target.isin(sct_nep)]\n",
    "s2r_nep_subset=s2r_nep[s2r_nep.source.isin(sct_nep)]"
   ]
  },
  {
   "cell_type": "code",
   "execution_count": 284,
   "metadata": {
    "collapsed": true
   },
   "outputs": [],
   "source": [
    "#take top 15 donors only\n",
    "dnr_nep=d2s_nep_subset.groupby('source').sum().reset_index().sort_values('weight',ascending=[0]).source[0:20]\n",
    "d2s_nep_subset1=d2s_nep_subset[d2s_nep_subset.source.isin(dnr_nep)]"
   ]
  },
  {
   "cell_type": "code",
   "execution_count": 285,
   "metadata": {
    "collapsed": true
   },
   "outputs": [],
   "source": [
    "df_nep=pd.concat([d2s_nep_subset1,s2r_nep_subset],0).sort_values('weight',ascending=[0])"
   ]
  },
  {
   "cell_type": "code",
   "execution_count": 286,
   "metadata": {
    "collapsed": true
   },
   "outputs": [],
   "source": [
    "nodes_nep=pd.DataFrame(pd.concat([df_nep.source,df_nep.target],0).unique(), columns=['id'])\n",
    "idx_nep=range(nodes_nep.shape[0])\n",
    "dc_nep=dict()\n",
    "#create a dictionary to establish a map\n",
    "for i in idx_nep:\n",
    "    dc_nep[nodes_nep.iloc[i].id]=i"
   ]
  },
  {
   "cell_type": "code",
   "execution_count": 287,
   "metadata": {
    "collapsed": true
   },
   "outputs": [],
   "source": [
    "df_nep.source=df_nep.source.map(dc_nep)\n",
    "df_nep.target=df_nep.target.map(dc_nep)"
   ]
  },
  {
   "cell_type": "code",
   "execution_count": 288,
   "metadata": {
    "collapsed": true
   },
   "outputs": [],
   "source": [
    "df_nep=df_nep[df_nep.weight > 1e7]"
   ]
  },
  {
   "cell_type": "code",
   "execution_count": 289,
   "metadata": {
    "collapsed": true
   },
   "outputs": [],
   "source": [
    "#Convert to billion and save file\n",
    "df_nep.weight=df_nep.weight*1.0/1e6\n",
    "df_nep.to_csv('links_nep_2016.csv')\n",
    "nodes_nep.to_csv('nodes_nep_2016.csv')"
   ]
  },
  {
   "cell_type": "code",
   "execution_count": 256,
   "metadata": {
    "collapsed": false
   },
   "outputs": [],
   "source": [
    "#sanity check (it should be zero if 1 million threshold on s2r_nep and d2s_nep is not applied)\n",
    "#s2r_nep.weight.sum()-d2s_nep.weight.sum()"
   ]
  },
  {
   "cell_type": "markdown",
   "metadata": {},
   "source": [
    "### Make classifier visual"
   ]
  },
  {
   "cell_type": "code",
   "execution_count": 303,
   "metadata": {
    "collapsed": true
   },
   "outputs": [],
   "source": [
    "class_id=range(200)"
   ]
  },
  {
   "cell_type": "code",
   "execution_count": 258,
   "metadata": {
    "collapsed": false
   },
   "outputs": [],
   "source": [
    "#simulate data\n",
    "from random import randint\n",
    "labels=['A','B','C','D','E']\n",
    "act_class=map(lambda x:labels[randint(0,4)] ,class_id)\n",
    "pred_class=map(lambda x:labels[randint(0,4)]+'1' ,class_id)"
   ]
  },
  {
   "cell_type": "code",
   "execution_count": 259,
   "metadata": {
    "collapsed": false
   },
   "outputs": [],
   "source": [
    "#create dataFrame\n",
    "import pandas as pd\n",
    "df_clf=pd.DataFrame([class_id,act_class,pred_class]).T\n",
    "df_clf.columns=['id','actual','predicted']\n",
    "df_clf_final=df_clf.groupby(['actual','predicted']).count().reset_index()\n",
    "df_clf_final.columns=['source','target','weight']"
   ]
  },
  {
   "cell_type": "code",
   "execution_count": 260,
   "metadata": {
    "collapsed": true
   },
   "outputs": [],
   "source": [
    "nodes_clf=pd.DataFrame(pd.concat([df_clf_final.source,df_clf_final.target],0).unique(), columns=['id'])\n",
    "idx_clf=range(nodes_clf.shape[0])\n",
    "dc_clf=dict()\n",
    "for i in idx_clf:\n",
    "    dc_clf[nodes_clf.iloc[i].id]=i"
   ]
  },
  {
   "cell_type": "code",
   "execution_count": 261,
   "metadata": {
    "collapsed": true
   },
   "outputs": [],
   "source": [
    "df_clf_final.source=df_clf_final.source.map(dc_clf)\n",
    "df_clf_final.target=df_clf_final.target.map(dc_clf)"
   ]
  },
  {
   "cell_type": "code",
   "execution_count": 262,
   "metadata": {
    "collapsed": false
   },
   "outputs": [],
   "source": [
    "nodes_clf=pd.DataFrame(labels+labels, columns=['id'])"
   ]
  },
  {
   "cell_type": "code",
   "execution_count": 263,
   "metadata": {
    "collapsed": false
   },
   "outputs": [],
   "source": [
    "df_clf_final.to_csv('links_clf.csv')\n",
    "nodes_clf.to_csv('nodes_clf.csv')"
   ]
  },
  {
   "cell_type": "code",
   "execution_count": null,
   "metadata": {
    "collapsed": true
   },
   "outputs": [],
   "source": []
  }
 ],
 "metadata": {
  "kernelspec": {
   "display_name": "Python 2",
   "language": "python",
   "name": "python2"
  },
  "language_info": {
   "codemirror_mode": {
    "name": "ipython",
    "version": 2
   },
   "file_extension": ".py",
   "mimetype": "text/x-python",
   "name": "python",
   "nbconvert_exporter": "python",
   "pygments_lexer": "ipython2",
   "version": "2.7.10"
  }
 },
 "nbformat": 4,
 "nbformat_minor": 0
}
